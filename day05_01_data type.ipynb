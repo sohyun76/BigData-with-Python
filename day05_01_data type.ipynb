{
 "cells": [
  {
   "cell_type": "markdown",
   "metadata": {},
   "source": [
    "- markdown은 손쉽게 글자에 효과를 줄 수 있는 문법입니다.\n",
    "- 마크다운.."
   ]
  },
  {
   "cell_type": "markdown",
   "metadata": {},
   "source": [
    "- ctrl + enter : 현재라인 실행 후 현재 라인에 대기\n",
    "- alt + enter : 현재 라인 실행 후 아래에 1셀 추가"
   ]
  },
  {
   "cell_type": "code",
   "execution_count": 1,
   "metadata": {},
   "outputs": [
    {
     "data": {
      "text/plain": [
       "2"
      ]
     },
     "execution_count": 1,
     "metadata": {},
     "output_type": "execute_result"
    }
   ],
   "source": [
    "# 덧셈\n",
    "1+1"
   ]
  },
  {
   "cell_type": "markdown",
   "metadata": {},
   "source": [
    "## 데이터타입"
   ]
  },
  {
   "cell_type": "code",
   "execution_count": 2,
   "metadata": {},
   "outputs": [
    {
     "name": "stdout",
     "output_type": "stream",
     "text": [
      "123\n",
      "-123\n",
      "0\n"
     ]
    }
   ],
   "source": [
    "#정수형 : 나누어 떨어지는 수 \n",
    "print(123)\n",
    "print(-123)\n",
    "print(123-123)"
   ]
  },
  {
   "cell_type": "code",
   "execution_count": 3,
   "metadata": {},
   "outputs": [
    {
     "name": "stdout",
     "output_type": "stream",
     "text": [
      "123.123\n",
      "100.1\n",
      "23.02300000000001\n"
     ]
    }
   ],
   "source": [
    "# 실수형 : 정확한 수\n",
    "print(123.123)\n",
    "print(100.100)\n",
    "print(123.123-100.100)"
   ]
  },
  {
   "cell_type": "code",
   "execution_count": 4,
   "metadata": {},
   "outputs": [
    {
     "data": {
      "text/plain": [
       "2"
      ]
     },
     "execution_count": 4,
     "metadata": {},
     "output_type": "execute_result"
    }
   ],
   "source": [
    "1\n",
    "2\n",
    "#이럴 경우, 2만 출력된다."
   ]
  },
  {
   "cell_type": "code",
   "execution_count": 5,
   "metadata": {},
   "outputs": [
    {
     "name": "stdout",
     "output_type": "stream",
     "text": [
      "1\n",
      "1\n"
     ]
    }
   ],
   "source": [
    "# 문자형\n",
    "# - 문자는 따옴표(혹은 작은 따옴표)로 감싼 형태입니다.\n",
    "print(\"1\")\n",
    "print('1')"
   ]
  },
  {
   "cell_type": "code",
   "execution_count": 6,
   "metadata": {},
   "outputs": [
    {
     "name": "stdout",
     "output_type": "stream",
     "text": [
      "True\n",
      "False\n",
      "True\n",
      "False\n"
     ]
    }
   ],
   "source": [
    "# 논리형\n",
    "# - 참이냐? 거짓이냐?\n",
    "print(True)\n",
    "print(False)\n",
    "print(1==1)\n",
    "print(1!=1)\n",
    "# - 머신러닝은 문자X But, True와 False는 가능."
   ]
  },
  {
   "cell_type": "code",
   "execution_count": 7,
   "metadata": {},
   "outputs": [
    {
     "name": "stdout",
     "output_type": "stream",
     "text": [
      "Hello World!\n",
      "H\n",
      "Hello\n"
     ]
    }
   ],
   "source": [
    "# 문자형을 이용하여 슬라이싱 개념익히기 == 인덱싱하기\n",
    "var1 = 'Hello World!' #변수 var1\n",
    "print(var1)\n",
    "print(var1[0])   # var1의 0번째 방을 출력해라.\n",
    "print(var1[0:5]) #0번째부터 5번째전까지(0,1,2,3,4 출력) -> 5포함X\n"
   ]
  },
  {
   "cell_type": "code",
   "execution_count": 8,
   "metadata": {},
   "outputs": [
    {
     "name": "stdout",
     "output_type": "stream",
     "text": [
      "World\n",
      "World!\n"
     ]
    }
   ],
   "source": [
    "#실습하기. \n",
    "#var에서 World만 출력하기.\n",
    "var1 = 'Hello World!'\n",
    "print(var1[6:11])\n",
    "print(var1[6:]) # \":\" 뒤에 아무것도 안써주면, 끝까지 출력된다. -> World!"
   ]
  },
  {
   "cell_type": "code",
   "execution_count": 9,
   "metadata": {},
   "outputs": [
    {
     "name": "stdout",
     "output_type": "stream",
     "text": [
      " I am a boy\n"
     ]
    }
   ],
   "source": [
    "# 문자 포맷팅\n",
    "# - 문자를 출력하는 형태를 지정하여 출력하는 것을 돕는 문법\n",
    "\n",
    "# 변수 : 변화하는 수\n",
    "a = 'boy' # 오른쪽 값을 왼쪽에 넣어주겠다. || == 이 '같다'.\n",
    "print(' I am a %s' % (a))"
   ]
  },
  {
   "cell_type": "code",
   "execution_count": 10,
   "metadata": {},
   "outputs": [
    {
     "name": "stdout",
     "output_type": "stream",
     "text": [
      "a\n",
      "boy\n"
     ]
    }
   ],
   "source": [
    "print('a') #하드코딩\n",
    "print(a) #변수를 사용하면 값을 변화시킬 수 있습니다."
   ]
  },
  {
   "cell_type": "code",
   "execution_count": 11,
   "metadata": {},
   "outputs": [],
   "source": [
    "# 셀?지우기 : Esc & X 누르기"
   ]
  },
  {
   "cell_type": "code",
   "execution_count": 12,
   "metadata": {},
   "outputs": [
    {
     "name": "stdout",
     "output_type": "stream",
     "text": [
      "\n"
     ]
    }
   ],
   "source": [
    "print()"
   ]
  },
  {
   "cell_type": "code",
   "execution_count": 13,
   "metadata": {},
   "outputs": [],
   "source": [
    "# 베열 : 빠르다. 같은 데이터 유형만 들어갈 수 있어. 중간에 데이터 추가X(위,아래, 중간 삽입 X)\n",
    "# 리스트 : 자료구조 변경 가능. 느림. 다른 데이터 유형 들어갈 수 있다.\n",
    "# python에는 문자열이 있지만 문자는 없어. 그래서 array도 업다?!"
   ]
  },
  {
   "cell_type": "markdown",
   "metadata": {},
   "source": [
    "#### 데이터 1개가 아니라 1,2,3,을 동시에 출력하고 싶은 경우라면?\n",
    "- 자료구조를 사용해야 합니다. 우리는 List를 사용합니다.\n",
    "- 기억하세요. List는 [ ] 로 표현!!"
   ]
  },
  {
   "cell_type": "code",
   "execution_count": 14,
   "metadata": {},
   "outputs": [
    {
     "name": "stdout",
     "output_type": "stream",
     "text": [
      "[1, 2, 3]\n"
     ]
    }
   ],
   "source": [
    "list_a = [1, 2, 3]\n",
    "print(list_a)"
   ]
  },
  {
   "cell_type": "code",
   "execution_count": 15,
   "metadata": {},
   "outputs": [
    {
     "name": "stdout",
     "output_type": "stream",
     "text": [
      "3\n",
      "2\n"
     ]
    }
   ],
   "source": [
    "# 실습하기. list_a의 2번째 방을 출력해주세요.\n",
    "print(list_a[2])\n",
    "# 실습하기. list_a에서 값 2를 출력해주세요.\n",
    "print(list_a[1])"
   ]
  },
  {
   "cell_type": "code",
   "execution_count": 16,
   "metadata": {},
   "outputs": [
    {
     "name": "stdout",
     "output_type": "stream",
     "text": [
      "[1, 2]\n"
     ]
    },
    {
     "data": {
      "text/plain": [
       "[1, 2]"
      ]
     },
     "execution_count": 16,
     "metadata": {},
     "output_type": "execute_result"
    }
   ],
   "source": [
    "#실습하기. list_a에서 0번째부터 2번째 방 전까지 출력하세요.\n",
    "print(list_a[0:2])\n",
    "list_a[0:2]"
   ]
  },
  {
   "cell_type": "code",
   "execution_count": 17,
   "metadata": {},
   "outputs": [
    {
     "name": "stdout",
     "output_type": "stream",
     "text": [
      "['korea', 'hclass', 'excel', 'Hello World!']\n"
     ]
    }
   ],
   "source": [
    "# 문자열로 된 리스트\n",
    "list_b = ['korea', 'hclass', 'excel', 'Hello World!']\n",
    "print(list_b)"
   ]
  },
  {
   "cell_type": "code",
   "execution_count": 18,
   "metadata": {},
   "outputs": [
    {
     "data": {
      "text/plain": [
       "'hclass'"
      ]
     },
     "execution_count": 18,
     "metadata": {},
     "output_type": "execute_result"
    }
   ],
   "source": [
    "list_b[1]"
   ]
  },
  {
   "cell_type": "code",
   "execution_count": 19,
   "metadata": {},
   "outputs": [
    {
     "name": "stdout",
     "output_type": "stream",
     "text": [
      "Hello World!\n",
      "World\n"
     ]
    }
   ],
   "source": [
    "# 실습하기 list_b에서 3번째 방을 출력해주세요. Answer : Hello World!\n",
    "print(list_b[3])\n",
    "# 컴퓨터가 답변을 하는 형태를 잘 보시오.\n",
    "# 스칼라 라는 데이터구조. \n",
    "# 데이터 구조와 형태는 다름..??\n",
    "print(list_b[3][6:11])\n",
    "# 리스트에서 데이터 하나 뽑아오면, 그것은 리스트가 아니라 스칼라가 된다.\n",
    "## Teacher : 파이썬이 답변해준 데이터 구조는 list에서 scala라는 타입이 된다.★\n",
    "## - scala는 데이터 1개를 표현하는 구조!!★★★ \n",
    "# 스칼라는 무조건 값 하나. 값 두개이상 표현?하려면 리스트 등과 같으 데이터 구조 사용해야 한다."
   ]
  },
  {
   "cell_type": "code",
   "execution_count": 20,
   "metadata": {},
   "outputs": [
    {
     "name": "stdout",
     "output_type": "stream",
     "text": [
      "['abcd', 3.16, True, 70]\n"
     ]
    }
   ],
   "source": [
    "# 리스트에는 숫자, 문자, 논리형 등의 다양한 데이터 유형이 저장 가능하다.\n",
    "list_c = ['abcd', 3.16, True, 70]\n",
    "print(list_c)"
   ]
  },
  {
   "cell_type": "code",
   "execution_count": 21,
   "metadata": {},
   "outputs": [
    {
     "name": "stdout",
     "output_type": "stream",
     "text": [
      "abcd\n",
      "f\n"
     ]
    }
   ],
   "source": [
    "# list_c[3]를 이용하여 리스트의 값 수정하기.\n",
    "# list_c의 0번째 방을 조회해주세요.\n",
    "print(list_c[0])\n",
    "# 0번째 방에 문자 f를 대입해주세요.\n",
    "list_c[0] = 'f'\n",
    "print(list_c[0])\n"
   ]
  },
  {
   "cell_type": "code",
   "execution_count": 22,
   "metadata": {},
   "outputs": [
    {
     "name": "stdout",
     "output_type": "stream",
     "text": [
      "['f', 3.16, [6, 7, 8], 70]\n"
     ]
    }
   ],
   "source": [
    "# 실습하기. list_c에 2번째 방에(True) 6,7,8([리스트])를 저장해주세요.\n",
    "list_c[2] = [6, 7, 8]\n",
    "print(list_c)\n",
    "# list_c = [스칼라, 스칼라, 리스트, 스칼라] ★★★★"
   ]
  },
  {
   "cell_type": "code",
   "execution_count": 23,
   "metadata": {},
   "outputs": [
    {
     "data": {
      "text/plain": [
       "8"
      ]
     },
     "execution_count": 23,
     "metadata": {},
     "output_type": "execute_result"
    }
   ],
   "source": [
    "list_c[2][2]"
   ]
  },
  {
   "cell_type": "markdown",
   "metadata": {},
   "source": [
    "##### 딕셔너리 자료구조\n",
    "- key(키)와 value(값)의 페어(쌍)으로 이루어진 자료구조\n",
    "- 키 : 중복이 불가능. 유니크 / 키는 문자, 숫자, 특수문자 등이 가능하다.(따라서, dic는 순번이 없습니다.)\n",
    "- 값 : 중복이 가능.\n",
    "- 딕셔너리는 방의 순번이 없어요. 왜냐 key에 숫자 사용 가능하기 때문."
   ]
  },
  {
   "cell_type": "code",
   "execution_count": 24,
   "metadata": {},
   "outputs": [
    {
     "name": "stdout",
     "output_type": "stream",
     "text": [
      "hong\n",
      "one\n"
     ]
    }
   ],
   "source": [
    "# 딕셔너리 자료형 만들기\n",
    "# {키:값}\n",
    "a_dic = {'name' : 'hong', 1:'one', 'age':99, 'job':[1, 2, 3]}\n",
    "print(a_dic['name'])\n",
    "print(a_dic[1]) #딕셔너리에 순번 존재하지 않는 이유."
   ]
  },
  {
   "cell_type": "code",
   "execution_count": 25,
   "metadata": {},
   "outputs": [
    {
     "name": "stdout",
     "output_type": "stream",
     "text": [
      "[1, 2, 3]\n",
      "[1, 2, 3]\n",
      "{'name': 'hong', 1: 'one', 'age': 99, 'job': [1, 2, 3]}\n"
     ]
    }
   ],
   "source": [
    "# 딕셔너리에서 데이터 조회하기\n",
    "print(a_dic['job'])  #수업시간에는 주로 이걸루\n",
    "print(a_dic.get('job'))\n",
    "## - 변수명.get(key)를 이용하면 딕셔너리의 key의 value를 조회 가능합니다.\n",
    "print(a_dic)"
   ]
  },
  {
   "cell_type": "code",
   "execution_count": 26,
   "metadata": {},
   "outputs": [
    {
     "name": "stdout",
     "output_type": "stream",
     "text": [
      "{'name': 'hong', 1: 'one', 'age': 99, 'job': [1, 2, 3], 'address': '123-123'}\n",
      "{'name': 'hong', 1: 'one', 'age': 99, 'job': [1, 2, 3], 'address': '123-123', 'phone': '010'}\n"
     ]
    }
   ],
   "source": [
    "# 딕셔너리에 값 추가하기\n",
    "# a_dic에 address(key)로 123-123(value)를 추가해주세요.\n",
    "# 첫번째 방법\n",
    "a_dic['address'] = '123-123'\n",
    "print(a_dic)\n",
    "\n",
    "# 두번째 방법\n",
    "# a_dic에 phone(key) 로 010~~(value)를 추가해주세요.\n",
    "# a_dic = {'phone' : ' 010~~'} -> 이렇게 할 경우, 기존 a_dic 삭제되고 새로운 a_dic 생성\n",
    "b_dic = {'phone' : '010'}\n",
    "a_dic.update(b_dic)\n",
    "print(a_dic)"
   ]
  },
  {
   "cell_type": "code",
   "execution_count": 27,
   "metadata": {},
   "outputs": [],
   "source": [
    "# update() -> 함수\n",
    "# update  -> 변수\n",
    "# [] - 리스트 / {} - 딕셔너리 / () - 함수 ★★★"
   ]
  },
  {
   "cell_type": "markdown",
   "metadata": {},
   "source": [
    "### 딕셔너리와 관련된 함수들\n",
    "- 함수 사용할 때 유의사항 : 전체를 모두 타이핑하지 마세요. 몇 글자 치고, ★tab★을 눌러주세요. -> 왜냐 오타 발생 방지.\n"
   ]
  },
  {
   "cell_type": "code",
   "execution_count": 28,
   "metadata": {},
   "outputs": [],
   "source": [
    "# - 딕셔너리.keys() : 모든 key를 조회\n",
    "# - 딕셔너리.values() : 모든 value를 조회\n",
    "# - 딕셔너리.items() : 모든 key, value 쌍을 조회\n",
    "# - 딕셔너리.clear() : 모든 요소 지우기\n",
    "# ex) a_dic.items() \n",
    "# ex) {'name': 'hong', 1: 'one', 'age': 99, 'job': [1, 2, 3], 'address': '123-123', 'phone': '010'}.items() // 둘 다 가 능 합 니 다 . "
   ]
  },
  {
   "cell_type": "code",
   "execution_count": 29,
   "metadata": {},
   "outputs": [
    {
     "data": {
      "text/plain": [
       "dict_values(['hong', 'one', 99, [1, 2, 3], '123-123', '010'])"
      ]
     },
     "execution_count": 29,
     "metadata": {},
     "output_type": "execute_result"
    }
   ],
   "source": [
    "a_dic.keys()\n",
    "a_dic.values()\n"
   ]
  },
  {
   "cell_type": "code",
   "execution_count": 30,
   "metadata": {},
   "outputs": [
    {
     "name": "stdout",
     "output_type": "stream",
     "text": [
      "{}\n"
     ]
    }
   ],
   "source": [
    "a_dic.clear()\n",
    "print(a_dic)"
   ]
  }
 ],
 "metadata": {
  "kernelspec": {
   "display_name": "Python 3",
   "language": "python",
   "name": "python3"
  },
  "language_info": {
   "codemirror_mode": {
    "name": "ipython",
    "version": 3
   },
   "file_extension": ".py",
   "mimetype": "text/x-python",
   "name": "python",
   "nbconvert_exporter": "python",
   "pygments_lexer": "ipython3",
   "version": "3.8.3"
  }
 },
 "nbformat": 4,
 "nbformat_minor": 2
}
