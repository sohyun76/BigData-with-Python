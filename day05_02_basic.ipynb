{
 "cells": [
  {
   "cell_type": "markdown",
   "metadata": {},
   "source": [
    "## 파이썬 기본 문법"
   ]
  },
  {
   "cell_type": "markdown",
   "metadata": {},
   "source": [
    "### 1. 사칙연산"
   ]
  },
  {
   "cell_type": "code",
   "execution_count": 1,
   "metadata": {},
   "outputs": [
    {
     "name": "stdout",
     "output_type": "stream",
     "text": [
      "2\n",
      "ab\n",
      "11\n",
      "[1, 2, 3, 4]\n"
     ]
    }
   ],
   "source": [
    "# 더하기\n",
    "# - 숫자형태 : 더하다\n",
    "print(1+1)\n",
    "\n",
    "# - 문자형태 : 붙이다\n",
    "print('a' + 'b')\n",
    "print('1' + '1')\n",
    "\n",
    "# - 자료구조 형태 : 합친다.\n",
    "list_01 = [1, 2]\n",
    "list_02 = [3, 4]\n",
    "print(list_01 + list_02)"
   ]
  },
  {
   "cell_type": "code",
   "execution_count": 2,
   "metadata": {},
   "outputs": [
    {
     "name": "stdout",
     "output_type": "stream",
     "text": [
      "1\n",
      "6\n",
      "9\n",
      "1.5\n",
      "1\n",
      "1\n"
     ]
    }
   ],
   "source": [
    "print(3 - 2)\n",
    "print(3 * 2)\n",
    "print(3 ** 2) #제곱\n",
    "print(3 / 2) #나누기 / 뺄셈.. /1.5\n",
    "print(3 % 2) # 나머지 / 1\n",
    "print(3 // 2) # 몫 / 1\n"
   ]
  },
  {
   "cell_type": "markdown",
   "metadata": {},
   "source": [
    "### 조건문 : 조건에 따라서 분석 프로세스의 흐름을 변경할 수 있는 문법\n",
    "- 조건부부을 한글로 먼저 쓰세요. "
   ]
  },
  {
   "cell_type": "markdown",
   "metadata": {},
   "source": [
    "if 조건 :\n",
    "    참인 경우\n",
    "else:\n",
    "    거짓인 경우"
   ]
  },
  {
   "cell_type": "code",
   "execution_count": 3,
   "metadata": {},
   "outputs": [
    {
     "name": "stdout",
     "output_type": "stream",
     "text": [
      "참입니다.\n"
     ]
    }
   ],
   "source": [
    "if 3 % 2 :\n",
    "    print('참입니다.')\n",
    "else : \n",
    "    print('거짓입니다.')"
   ]
  },
  {
   "cell_type": "code",
   "execution_count": 4,
   "metadata": {},
   "outputs": [
    {
     "name": "stdout",
     "output_type": "stream",
     "text": [
      "홀수\n"
     ]
    }
   ],
   "source": [
    "# 실습하기 : a의 값이 짝수인지 홀수인지에 따라서 \n",
    "#            짝수일 경우 짝수 / 홀수일 경우 홀수\n",
    "a = 7\n",
    "if a % 2 == 0:\n",
    "    print('짝수')\n",
    "else : \n",
    "    print('홀수')"
   ]
  },
  {
   "cell_type": "markdown",
   "metadata": {},
   "source": [
    "위의 방식 설명 .\n",
    "if a의 값이 짝수인지 홀수인지에 따라서 : == \"a를 2로 나눈 나머지가 1이면 홀수, 0이면 짝수\"\n",
    "    print('짝수')\n",
    "else : \n",
    "    print('홀수')\n",
    "    \n",
    "★★★ 중요(데이터분석가) : 조건 잘 해석..//./,.,/.,/"
   ]
  },
  {
   "cell_type": "markdown",
   "metadata": {},
   "source": [
    "### 파이썬만의 조건문\n",
    "- x in 오브젝트\n",
    "- 오브젝트 : 리스트, 튜플, 문자열 등등 다양합니다."
   ]
  },
  {
   "cell_type": "markdown",
   "metadata": {},
   "source": [
    "list_d = [1, 2, 3, 4]\n",
    "list_d에 5가 포함되어 있으면 포함되어있다고 출력, 없으면 없다를 출력해주세요.\n",
    "if 조건 in 오브젝트 :\n",
    "    참\n",
    "else :\n",
    "    거짓"
   ]
  },
  {
   "cell_type": "code",
   "execution_count": 5,
   "metadata": {},
   "outputs": [
    {
     "name": "stdout",
     "output_type": "stream",
     "text": [
      "포함X\n"
     ]
    }
   ],
   "source": [
    "list_d = [1, 2, 3, 4]\n",
    "if 5 in list_d:\n",
    "    print('포함0')\n",
    "else :\n",
    "    print('포함X')"
   ]
  },
  {
   "cell_type": "markdown",
   "metadata": {},
   "source": [
    "### 반복문 : 어떤 작업을 조건에 따라서 여러번 반복시키는 문법\n",
    "- for 반복문 : 횟수가 중요한 경우\n",
    "- while 반복문 : 조건이 중요한 경우"
   ]
  },
  {
   "cell_type": "markdown",
   "metadata": {},
   "source": [
    "for item in 오브젝트 :   \n",
    "    오브젝트의 각 방의 값을 순차적으로 item(변수)에 대입한다."
   ]
  },
  {
   "cell_type": "code",
   "execution_count": 7,
   "metadata": {},
   "outputs": [
    {
     "name": "stdout",
     "output_type": "stream",
     "text": [
      "1\n",
      "=====각 방에 1씩 더하기=====\n",
      "2\n",
      "\n",
      "2\n",
      "=====각 방에 1씩 더하기=====\n",
      "3\n",
      "\n",
      "3\n",
      "=====각 방에 1씩 더하기=====\n",
      "4\n",
      "\n",
      "4\n",
      "=====각 방에 1씩 더하기=====\n",
      "5\n",
      "\n"
     ]
    }
   ],
   "source": [
    "for item in list_d:\n",
    "    print(item)\n",
    "    print('=====각 방에 1씩 더하기=====')\n",
    "    print(item + 1)\n",
    "    print()"
   ]
  },
  {
   "cell_type": "code",
   "execution_count": 9,
   "metadata": {},
   "outputs": [],
   "source": [
    "# while 반복문\n",
    "# - i가 4보다 작거나 같을 때까지 실행\n",
    "# while 조건:\n",
    "#`    실행"
   ]
  },
  {
   "cell_type": "code",
   "execution_count": 10,
   "metadata": {},
   "outputs": [
    {
     "name": "stdout",
     "output_type": "stream",
     "text": [
      "0\n",
      "1\n",
      "2\n",
      "3\n",
      "4\n"
     ]
    }
   ],
   "source": [
    "i = 0\n",
    "while i <= 4 :\n",
    "    print(i)\n",
    "    i = i + 1 # 이거 안하면, 무한반복에 빠진다.!!!★"
   ]
  },
  {
   "cell_type": "markdown",
   "metadata": {},
   "source": [
    "### 파이썬의 기본 함수(내장 함수)\n",
    "\n",
    "##### eval(expression) : 실행이 가능한 문자열을 실행시켜주는 함수\n",
    "- eval('1+1') -> 결과 : 2\n",
    "- eval('print(5)') -> 결과 : 5"
   ]
  },
  {
   "cell_type": "markdown",
   "metadata": {},
   "source": [
    "###  오브젝트의 길이를 구하는 함수\n",
    "- len(오브젝트)\n",
    "- len('python') -> 결과 : 6\n",
    "- len(list_d) -> 결과 : 4 (list_d = [?, ?, ?, ?]"
   ]
  },
  {
   "cell_type": "code",
   "execution_count": 11,
   "metadata": {},
   "outputs": [
    {
     "name": "stdout",
     "output_type": "stream",
     "text": [
      "p\n",
      "y\n",
      "t\n",
      "h\n",
      "o\n",
      "n\n"
     ]
    }
   ],
   "source": [
    "# 실습하기\n",
    "# len함수를 이용하여 python을 반복문을 통하여 p, y,t, h,o,n 출력하기.\n",
    "i = ''\n",
    "a = 'python'\n",
    "for i in range(0, len(a)):\n",
    "    print(a[i])"
   ]
  },
  {
   "cell_type": "markdown",
   "metadata": {},
   "source": [
    "###  range() : 해당 값까지의 범위를 만들어주는 함수.\n",
    "- range(0, 5) :"
   ]
  },
  {
   "cell_type": "markdown",
   "metadata": {},
   "source": [
    "#####  -크롤링?(데이터 긁어오기.) <-> 통계청 데이터,공공데이터포털 : openapi\n",
    "\n"
   ]
  },
  {
   "cell_type": "markdown",
   "metadata": {},
   "source": [
    "-- 서울시 빅데이터 센터."
   ]
  }
 ],
 "metadata": {
  "kernelspec": {
   "display_name": "Python 3",
   "language": "python",
   "name": "python3"
  },
  "language_info": {
   "codemirror_mode": {
    "name": "ipython",
    "version": 3
   },
   "file_extension": ".py",
   "mimetype": "text/x-python",
   "name": "python",
   "nbconvert_exporter": "python",
   "pygments_lexer": "ipython3",
   "version": "3.8.3"
  }
 },
 "nbformat": 4,
 "nbformat_minor": 2
}
